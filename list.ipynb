letters = []
for letter in 'human':
   letters.append(letter)
print(letters)
